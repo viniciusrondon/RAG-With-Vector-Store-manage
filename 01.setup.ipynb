{
 "cells": [
  {
   "cell_type": "markdown",
   "id": "f03ae061",
   "metadata": {},
   "source": [
    "# Quickstart with Q&A Chatbot"
   ]
  },
  {
   "cell_type": "markdown",
   "id": "f9eebca1",
   "metadata": {},
   "source": [
    "This project aims to build an Vanilla Q&A Chatbot with Streamlit using openai LLM models.\n"
   ]
  },
  {
   "cell_type": "markdown",
   "id": "86ef8b35",
   "metadata": {},
   "source": [
    "# Setup"
   ]
  },
  {
   "cell_type": "code",
   "execution_count": 1,
   "id": "e9ada5b7",
   "metadata": {},
   "outputs": [
    {
     "name": "stdout",
     "output_type": "stream",
     "text": [
      "Folder 'data' has been created.\n",
      "Folder 'image' has been created.\n",
      "Folder 'pickle' has been created.\n",
      "Folder 'paper' has been created.\n"
     ]
    }
   ],
   "source": [
    "import os\n",
    "\n",
    "def create_folders_if_not_exist():\n",
    "    folders = ['data', 'image', 'pickle', 'paper']\n",
    "    for folder in folders:\n",
    "        if not os.path.exists(folder):\n",
    "            os.makedirs(folder)\n",
    "            print(f\"Folder '{folder}' has been created.\")\n",
    "        else:\n",
    "            print(f\"Folder '{folder}' already exists.\")\n",
    "\n",
    "create_folders_if_not_exist()"
   ]
  },
  {
   "cell_type": "code",
   "execution_count": 2,
   "id": "aafd45fd",
   "metadata": {},
   "outputs": [
    {
     "data": {
      "text/plain": [
       "True"
      ]
     },
     "execution_count": 2,
     "metadata": {},
     "output_type": "execute_result"
    }
   ],
   "source": [
    "from dotenv import load_dotenv\n",
    "\n",
    "load_dotenv()"
   ]
  },
  {
   "cell_type": "code",
   "execution_count": 3,
   "id": "9959a67a",
   "metadata": {},
   "outputs": [],
   "source": [
    "## openai\n",
    "os.environ[\"OPENAI_API_KEY\"] = os.getenv(\"OPENAI_API_KEY\")\n",
    "\n",
    "## langsmith tracking\n",
    "os.environ[\"LANGCHAIN_API_KEY\"] = os.getenv(\"LANGCHAIN_API_KEY\")\n",
    "os.environ[\"LANGCHAIN_TRACING_V2\"] = \"true\"\n",
    "os.environ[\"LANGCHAIN_PROJECT\"] = os.getenv(\"LANGCHAIN_PROJECT\")\n",
    "\n",
    "## huggingface\n",
    "os.environ[\"HF_TOKEN\"] = os.getenv(\"HF_TOKEN\")"
   ]
  },
  {
   "cell_type": "code",
   "execution_count": 4,
   "id": "fb75a6f2",
   "metadata": {},
   "outputs": [],
   "source": [
    "from langchain_openai import ChatOpenAI\n",
    "\n",
    "llm = ChatOpenAI(model=\"gpt-4o-mini\", temperature=0)"
   ]
  },
  {
   "cell_type": "markdown",
   "id": "10d6ef65",
   "metadata": {},
   "source": []
  }
 ],
 "metadata": {
  "kernelspec": {
   "display_name": ".venv",
   "language": "python",
   "name": "python3"
  },
  "language_info": {
   "codemirror_mode": {
    "name": "ipython",
    "version": 3
   },
   "file_extension": ".py",
   "mimetype": "text/x-python",
   "name": "python",
   "nbconvert_exporter": "python",
   "pygments_lexer": "ipython3",
   "version": "3.10.12"
  }
 },
 "nbformat": 4,
 "nbformat_minor": 5
}
